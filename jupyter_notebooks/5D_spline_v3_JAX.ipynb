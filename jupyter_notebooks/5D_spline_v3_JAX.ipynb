{
 "cells": [
  {
   "cell_type": "markdown",
   "id": "5f685446-5981-4bda-9202-f46614ddbf4a",
   "metadata": {},
   "source": [
    "##### 5D natural cubic spline method assuming equidistant grids in each dimension, of Habermann and Kindermann 2007,\n",
    "### jittable, auto-differentiable using JAX, 2022/10/4"
   ]
  },
  {
   "cell_type": "code",
   "execution_count": 54,
   "id": "8dfd0d30-eb29-48b9-8a5c-bd204dd9d81a",
   "metadata": {},
   "outputs": [],
   "source": [
    "import numpy as np\n",
    "from scipy import linalg"
   ]
  },
  {
   "cell_type": "code",
   "execution_count": 55,
   "id": "5ce35aa2-6a16-46c1-9f69-bbbd73667022",
   "metadata": {},
   "outputs": [],
   "source": [
    "N=5 # dimension (number of independent variables)"
   ]
  },
  {
   "cell_type": "code",
   "execution_count": 56,
   "id": "782ced33-4511-4ddf-8d88-51efeb045fae",
   "metadata": {},
   "outputs": [],
   "source": [
    "# lower and uppder bounds of x-coordinate in each dimension [a,b]\n",
    "a=[0,0,0,0,0] # [1st dim, 2nd dim, 3rd dim, 4th dim, 5th dim]\n",
    "b=[1,2,3,4,5] # [1st dim, 2nd dim, 3rd dim, 4th dim, 5th dim]\n",
    "a= np.array(a, dtype=float)\n",
    "b= np.array(b, dtype=float)"
   ]
  },
  {
   "cell_type": "code",
   "execution_count": 57,
   "id": "670eee5a-a05f-491e-8a2f-fb4f7d3cb9bc",
   "metadata": {},
   "outputs": [],
   "source": [
    "# number of grid interval n in each dimension\n",
    "n=[10,10,10,10,10] # [1st dim, 2nd dim, 3rd dim]\n",
    "n= np.array(n, dtype=int)"
   ]
  },
  {
   "cell_type": "code",
   "execution_count": 58,
   "id": "0eacf31e-8b4f-4df5-94e2-48c4d45fd61d",
   "metadata": {},
   "outputs": [],
   "source": [
    "# grid interval n in each dimension\n",
    "h=(b-a)/n"
   ]
  },
  {
   "cell_type": "code",
   "execution_count": 59,
   "id": "06bc4f9a-3509-4de4-85e2-dba81e534786",
   "metadata": {},
   "outputs": [],
   "source": [
    "#x_grid=(np.linspace(a[0],b[0],n[0]+1), np.linspace(a[1],b[1],n[1]+1))  # tuple of (1st dim grid points , 2nd dim grid points) \n",
    "x_grid=()\n",
    "for j in range(N):\n",
    "    x_grid += (np.linspace(a[j],b[j],n[j]+1),)\n",
    "# x_grid[0] is numpy array of 1st dim grid points\n",
    "# x_grid[1] is numpy array of 2nd dim grid points\n",
    "#x_grid"
   ]
  },
  {
   "cell_type": "code",
   "execution_count": 60,
   "id": "35960b75-6dea-46e3-bbc8-adb3675dba1d",
   "metadata": {},
   "outputs": [],
   "source": [
    "grid_shape=()\n",
    "for j in range(N):\n",
    "    grid_shape += (n[j]+1,)\n",
    "y_data= np.zeros(grid_shape)"
   ]
  },
  {
   "cell_type": "code",
   "execution_count": 61,
   "id": "dc4cf673-2ba4-4873-bfcd-a863086fecd5",
   "metadata": {},
   "outputs": [],
   "source": [
    "# test y_data\n",
    "for q1 in range(n[0]+1):\n",
    "    for q2 in range(n[1]+1):\n",
    "        for q3 in range(n[2]+1):\n",
    "             for q4 in range(n[3]+1):\n",
    "                    for q5 in range(n[3]+1):\n",
    "                        y_data[q1,q2,q3,q4,q5]= np.sin(x_grid[0][q1])*np.sin(x_grid[1][q2])*np.sin(x_grid[2][q3])*np.sin(x_grid[3][q4])*np.sin(x_grid[4][q5])\n",
    "#y_data"
   ]
  },
  {
   "cell_type": "code",
   "execution_count": 62,
   "id": "dcb8ee7d-d9a4-4f24-9203-fa8601c5478a",
   "metadata": {},
   "outputs": [],
   "source": [
    "def compute_5D_spline_coefs(y_data):\n",
    "    '''\n",
    "    Compute 5D spline coefficient matrix c_i1i2i3i4i5\n",
    "    \n",
    "    INPUTs:\n",
    "        y_data: 5D numpy array of y data (real scalar) at x_grid points \n",
    "    '''\n",
    "    \n",
    "    N=5 # dimension of the problem\n",
    "    \n",
    "    for j in range(N):\n",
    "        n[j]= y_data.shape[j]-1 #number of grid interval n in each dimension\n",
    "    \n",
    "    k=0 # 1-st dimension\n",
    "    c_shape=()\n",
    "    for j in range(N):\n",
    "        if j <= k :\n",
    "            c_shape += (n[j]+3,)\n",
    "        else:\n",
    "            c_shape += (n[j]+1,)\n",
    "    c_i1q2q3q4q5=np.zeros(c_shape)\n",
    "    del c_shape\n",
    "    for q2 in range(n[1]+1):\n",
    "        for q3 in range(n[2]+1):\n",
    "            for q4 in range(n[3]+1):\n",
    "                for q5 in range(n[4]+1):\n",
    "                    c_i1q2q3q4q5[1,q2,q3,q4,q5]=y_data[0,q2,q3,q4,q5]/6 # c_{2}\n",
    "                    c_i1q2q3q4q5[n[k]+1,q2,q3,q4,q5]=y_data[n[k],q2,q3,q4,q5]/6 # c_{n+2}\n",
    "                    A = np.zeros((n[k]-1,n[k]-1))\n",
    "                    for i in range(n[k]-1):\n",
    "                        A[i,i]=4\n",
    "                        if i+1 < n[k]-1 :\n",
    "                            A[i,i+1]= A[i+1,i]=1\n",
    "                    B = np.zeros(n[k]-1)\n",
    "                    B[0]=y_data[1,q2,q3,q4,q5]-c_i1q2q3q4q5[1,q2,q3,q4,q5]\n",
    "                    B[n[k]-2]=y_data[n[k]-1,q2,q3,q4,q5]-c_i1q2q3q4q5[n[k]+1,q2,q3,q4,q5]\n",
    "                    B[1:n[k]-2]=y_data[2:n[k]-1,q2,q3,q4,q5]\n",
    "                    sol = linalg.solve(A, B)\n",
    "                    c_i1q2q3q4q5[2:n[k]+1,q2,q3,q4,q5]=sol\n",
    "                    c_i1q2q3q4q5[0,q2,q3,q4,q5]=2*c_i1q2q3q4q5[1,q2,q3,q4,q5]-c_i1q2q3q4q5[2,q2,q3,q4,q5]\n",
    "                    c_i1q2q3q4q5[n[k]+2,q2,q3,q4,q5]=2*c_i1q2q3q4q5[n[k]+1,q2,q3,q4,q5]-c_i1q2q3q4q5[n[k],q2,q3,q4,q5]\n",
    "\n",
    "    k=1 # 2nd dimension\n",
    "    c_shape=()\n",
    "    for j in range(N):\n",
    "        if j <= k :\n",
    "            c_shape += (n[j]+3,)\n",
    "        else:\n",
    "            c_shape += (n[j]+1,)\n",
    "    c_i1i2q3q4q5=np.zeros(c_shape)\n",
    "    del c_shape\n",
    "    for i1 in range(n[0]+3):\n",
    "        for q3 in range(n[2]+1):\n",
    "            for q4 in range(n[3]+1):\n",
    "                for q5 in range(n[4]+1):\n",
    "                    c_i1i2q3q4q5[i1,1,q3,q4,q5]=c_i1q2q3q4q5[i1,0,q3,q4,q5]/6 # c_{2}\n",
    "                    c_i1i2q3q4q5[i1,n[k]+1,q3,q4,q5]=c_i1q2q3q4q5[i1,n[k],q3,q4,q5]/6 # c_{n+2}\n",
    "                    A = np.zeros((n[k]-1,n[k]-1))\n",
    "                    for i in range(n[k]-1):\n",
    "                        A[i,i]=4\n",
    "                        if i+1 < n[k]-1 :\n",
    "                            A[i,i+1]= A[i+1,i]=1\n",
    "                    B = np.zeros(n[k]-1)\n",
    "                    B[0]=c_i1q2q3q4q5[i1,1,q3,q4,q5]-c_i1i2q3q4q5[i1,1,q3,q4,q5]\n",
    "                    B[n[k]-2]=c_i1q2q3q4q5[i1,n[k]-1,q3,q4,q5]-c_i1i2q3q4q5[i1,n[k]+1,q3,q4,q5]\n",
    "                    B[1:n[k]-2]=c_i1q2q3q4q5[i1,2:n[k]-1,q3,q4,q5]\n",
    "\n",
    "                    sol = linalg.solve(A, B)\n",
    "                    c_i1i2q3q4q5[i1,2:n[k]+1,q3,q4,q5]=sol\n",
    "                    c_i1i2q3q4q5[i1,0,q3,q4,q5]=2*c_i1i2q3q4q5[i1,1,q3,q4,q5]-c_i1i2q3q4q5[i1,2,q3,q4,q5]\n",
    "                    c_i1i2q3q4q5[i1,n[k]+2,q3,q4,q5]=2*c_i1i2q3q4q5[i1,n[k]+1,q3,q4,q5]-c_i1i2q3q4q5[i1,n[k],q3,q4,q5]\n",
    "\n",
    "    k=2 # 3rd dimension\n",
    "    c_shape=()\n",
    "    for j in range(N):\n",
    "        if j <= k :\n",
    "            c_shape += (n[j]+3,)\n",
    "        else:\n",
    "            c_shape += (n[j]+1,)\n",
    "    c_i1i2i3q4q5=np.zeros(c_shape)\n",
    "    del c_shape\n",
    "    for i1 in range(n[0]+3):\n",
    "        for i2 in range(n[1]+3):\n",
    "            for q4 in range(n[3]+1):\n",
    "                for q5 in range(n[4]+1):\n",
    "                    c_i1i2i3q4q5[i1,i2,1,q4,q5]=c_i1i2q3q4q5[i1,i2,0,q4,q5]/6 # c_{2}\n",
    "                    c_i1i2i3q4q5[i1,i2,n[k]+1,q4,q5]=c_i1i2q3q4q5[i1,i2,n[k],q4,q5]/6 # c_{n+2}\n",
    "                    A = np.zeros((n[k]-1,n[k]-1))\n",
    "                    for i in range(n[k]-1):\n",
    "                        A[i,i]=4\n",
    "                        if i+1 < n[k]-1 :\n",
    "                            A[i,i+1]= A[i+1,i]=1\n",
    "                    B = np.zeros(n[k]-1)\n",
    "                    B[0]=c_i1i2q3q4q5[i1,i2,1,q4,q5]-c_i1i2i3q4q5[i1,i2,1,q4,q5]\n",
    "                    B[n[k]-2]=c_i1i2q3q4q5[i1,i2,n[k]-1,q4,q5]-c_i1i2i3q4q5[i1,i2,n[k]+1,q4,q5]\n",
    "                    B[1:n[k]-2]=c_i1i2q3q4q5[i1,i2,2:n[k]-1,q4,q5]\n",
    "\n",
    "                    sol = linalg.solve(A, B)\n",
    "                    c_i1i2i3q4q5[i1,i2,2:n[k]+1,q4,q5]=sol\n",
    "                    c_i1i2i3q4q5[i1,i2,0,q4,q5]=2*c_i1i2i3q4q5[i1,i2,1,q4,q5]-c_i1i2i3q4q5[i1,i2,2,q4,q5]\n",
    "                    c_i1i2i3q4q5[i1,i2,n[k]+2,q4,q5]=2*c_i1i2i3q4q5[i1,i2,n[k]+1,q4,q5]-c_i1i2i3q4q5[i1,i2,n[k],q4,q5]\n",
    "\n",
    "    k=3 # 4th dimension\n",
    "    c_shape=()\n",
    "    for j in range(N):\n",
    "        if j <= k :\n",
    "            c_shape += (n[j]+3,)\n",
    "        else:\n",
    "            c_shape += (n[j]+1,)\n",
    "    c_i1i2i3i4q5=np.zeros(c_shape)\n",
    "    del c_shape\n",
    "    for i1 in range(n[0]+3):\n",
    "        for i2 in range(n[1]+3):\n",
    "            for i3 in range(n[2]+3):\n",
    "                for q5 in range(n[4]+1):\n",
    "                    c_i1i2i3i4q5[i1,i2,i3,1,q5]=c_i1i2i3q4q5[i1,i2,i3,0,q5]/6 # c_{2}\n",
    "                    c_i1i2i3i4q5[i1,i2,i3,n[k]+1,q5]=c_i1i2i3q4q5[i1,i2,i3,n[k],q5]/6 # c_{n+2}\n",
    "                    A = np.zeros((n[k]-1,n[k]-1))\n",
    "                    for i in range(n[k]-1):\n",
    "                        A[i,i]=4\n",
    "                        if i+1 < n[k]-1 :\n",
    "                            A[i,i+1]= A[i+1,i]=1\n",
    "                    B = np.zeros(n[k]-1)\n",
    "                    B[0]=c_i1i2i3q4q5[i1,i2,i3,1,q5]-c_i1i2i3i4q5[i1,i2,i3,1,q5]\n",
    "                    B[n[k]-2]=c_i1i2i3q4q5[i1,i2,i3,n[k]-1,q5]-c_i1i2i3i4q5[i1,i2,i3,n[k]+1,q5]\n",
    "                    B[1:n[k]-2]=c_i1i2i3q4q5[i1,i2,i3,2:n[k]-1,q5]\n",
    "                    sol = linalg.solve(A, B)\n",
    "                    c_i1i2i3i4q5[i1,i2,i3,2:n[k]+1,q5]=sol\n",
    "                    c_i1i2i3i4q5[i1,i2,i3,0,q5]=2*c_i1i2i3i4q5[i1,i2,i3,1,q5]-c_i1i2i3i4q5[i1,i2,i3,2,q5]\n",
    "                    c_i1i2i3i4q5[i1,i2,i3,n[k]+2,q5]=2*c_i1i2i3i4q5[i1,i2,i3,n[k]+1,q5]-c_i1i2i3i4q5[i1,i2,i3,n[k],q5]\n",
    "    \n",
    "    k=4 # 5th dimension\n",
    "    c_shape=()\n",
    "    for j in range(N):\n",
    "        if j <= k :\n",
    "            c_shape += (n[j]+3,)\n",
    "        else:\n",
    "            c_shape += (n[j]+1,)\n",
    "    c_i1i2i3i4i5=np.zeros(c_shape)\n",
    "    del c_shape\n",
    "    for i1 in range(n[0]+3):\n",
    "        for i2 in range(n[1]+3):\n",
    "            for i3 in range(n[2]+3):\n",
    "                for i4 in range(n[3]+3):\n",
    "                    c_i1i2i3i4i5[i1,i2,i3,i4,1]=c_i1i2i3i4q5[i1,i2,i3,i4,0]/6 # c_{2}\n",
    "                    c_i1i2i3i4i5[i1,i2,i3,i4,n[k]+1]=c_i1i2i3i4q5[i1,i2,i3,i4,n[k]]/6 # c_{n+2}\n",
    "                    A = np.zeros((n[k]-1,n[k]-1))\n",
    "                    for i in range(n[k]-1):\n",
    "                        A[i,i]=4\n",
    "                        if i+1 < n[k]-1 :\n",
    "                            A[i,i+1]= A[i+1,i]=1\n",
    "                    B = np.zeros(n[k]-1)\n",
    "                    B[0]=c_i1i2i3i4q5[i1,i2,i3,i4,1]-c_i1i2i3i4i5[i1,i2,i3,i4,1]\n",
    "                    B[n[k]-2]=c_i1i2i3i4q5[i1,i2,i3,i4,n[k]-1]-c_i1i2i3i4i5[i1,i2,i3,i4,n[k]+1]\n",
    "                    B[1:n[k]-2]=c_i1i2i3i4q5[i1,i2,i3,i4,2:n[k]-1]\n",
    "                    sol = linalg.solve(A, B)\n",
    "                    c_i1i2i3i4i5[i1,i2,i3,i4,2:n[k]+1]=sol\n",
    "                    c_i1i2i3i4i5[i1,i2,i3,i4,0]=2*c_i1i2i3i4i5[i1,i2,i3,i4,1]-c_i1i2i3i4i5[i1,i2,i3,i4,2]\n",
    "                    c_i1i2i3i4i5[i1,i2,i3,i4,n[k]+2]=2*c_i1i2i3i4i5[i1,i2,i3,i4,n[k]+1]-c_i1i2i3i4i5[i1,i2,i3,i4,n[k]]\n",
    "    \n",
    "    return c_i1i2i3i4i5"
   ]
  },
  {
   "cell_type": "code",
   "execution_count": 63,
   "id": "9e5e349c-39b8-4c20-b96b-4793d33c704b",
   "metadata": {},
   "outputs": [],
   "source": [
    "c_i1i2i3i4i5= compute_5D_spline_coefs(y_data)\n"
   ]
  },
  {
   "cell_type": "code",
   "execution_count": 64,
   "id": "3c687ecc-257e-4348-9b76-9484b97ee583",
   "metadata": {},
   "outputs": [
    {
     "data": {
      "text/plain": [
       "3.335532324807976e-05"
      ]
     },
     "execution_count": 64,
     "metadata": {},
     "output_type": "execute_result"
    }
   ],
   "source": [
    "c_i1i2i3i4i5[5,5,5,5,5]"
   ]
  },
  {
   "cell_type": "markdown",
   "id": "30ca1595-117b-48ce-a1b3-28c9ce634040",
   "metadata": {},
   "source": [
    "### compute spline interpolation and its gradient using JAX"
   ]
  },
  {
   "cell_type": "code",
   "execution_count": 65,
   "id": "1f6acf3d-5387-4636-8686-46e1bb22bb4c",
   "metadata": {},
   "outputs": [],
   "source": [
    "from jax import lax\n",
    "import jax.numpy as jnp"
   ]
  },
  {
   "cell_type": "code",
   "execution_count": 66,
   "id": "6dab96b1-7c8e-4662-ba8b-2444b005144b",
   "metadata": {},
   "outputs": [],
   "source": [
    "#5D-spline function (jittable and auto-differentiable)\n",
    "def s5D(x,a,h,c_i1i2i3i4i5):\n",
    "    '''\n",
    "    5D-spline interpolation\n",
    "    \n",
    "    INPUTs\n",
    "        x: 5-dim x vector (float) at which interplated y-value is evaluated \n",
    "        a: 5-dim vector (float) of the lower boundary of the each of the x-dimension\n",
    "        h: 5-dim vector (float) of the grid interval of the each of the x-dimension\n",
    "        c_i1i2i3i4i5: spline coefficent (5-dim array)\n",
    "    '''\n",
    "    \n",
    "    def u(ii,aa,hh,xx):\n",
    "        t= jnp.abs((xx-aa)/hh + 2 - ii)\n",
    "        return lax.cond(t <= 1, lambda t: 4.-6.*t**2+3.*t**3, lambda t: (2.-t)**3, t)*jnp.heaviside(2.-t, 1.)\n",
    "    \n",
    "    def f(carry,i1,i2,i3,i4,i5,c_i1i2i3i4i5,a,h,x):\n",
    "        val = c_i1i2i3i4i5[i1-1,i2-1,i3-1,i4-1,i5-1]*u(i1,a[0],h[0],x[0])*u(i2,a[1],h[1],x[1])*u(i3,a[2],h[2],x[2])*u(i4,a[3],h[3],x[3])*u(i5,a[4],h[4],x[4])\n",
    "        carry += val\n",
    "        return carry,val\n",
    "    \n",
    "    i1arr=jnp.arange(1,c_i1i2i3i4i5.shape[0]+1)\n",
    "    i2arr=jnp.arange(1,c_i1i2i3i4i5.shape[1]+1)\n",
    "    i3arr=jnp.arange(1,c_i1i2i3i4i5.shape[2]+1)\n",
    "    i4arr=jnp.arange(1,c_i1i2i3i4i5.shape[3]+1)\n",
    "    i5arr=jnp.arange(1,c_i1i2i3i4i5.shape[4]+1)\n",
    "    \n",
    "    carry, val =  lax.scan(lambda s1, i1: lax.scan(lambda s2, i2: lax.scan(lambda s3, i3: lax.scan(lambda s4, i4:  lax.scan(lambda s5, i5: f(s5, i1=i1, i2=i2, i3=i3, i4=i4, i5=i5, c_i1i2i3i4i5=c_i1i2i3i4i5,a=a,h=h,x=x), s4, i5arr), s3, i4arr), s2, i3arr), s1, i2arr), 0.0, i1arr)\n",
    "    \n",
    "    return carry"
   ]
  },
  {
   "cell_type": "code",
   "execution_count": 67,
   "id": "b610ff8b-b9d5-4c34-9dd7-f3e0db80c357",
   "metadata": {},
   "outputs": [],
   "source": [
    "c_i1i2i3i4i5_jnp= jnp.array(c_i1i2i3i4i5)\n",
    "a_jnp=jnp.array(a)\n",
    "h_jnp=jnp.array(h)"
   ]
  },
  {
   "cell_type": "code",
   "execution_count": 68,
   "id": "20a5c333-b102-4d50-853f-5f8621717023",
   "metadata": {},
   "outputs": [],
   "source": [
    "x=jnp.array([0.5,1.0,1.5,2.0,2.5])"
   ]
  },
  {
   "cell_type": "code",
   "execution_count": 69,
   "id": "d2fd9bf7-8a11-40f8-bf32-6c19e6a12607",
   "metadata": {},
   "outputs": [
    {
     "data": {
      "text/plain": [
       "DeviceArray(0.2189883, dtype=float32)"
      ]
     },
     "execution_count": 69,
     "metadata": {},
     "output_type": "execute_result"
    }
   ],
   "source": [
    "s5D(x,a_jnp,h_jnp,c_i1i2i3i4i5_jnp)"
   ]
  },
  {
   "cell_type": "code",
   "execution_count": 70,
   "id": "61288211-7895-43cc-9d44-6690c0467399",
   "metadata": {},
   "outputs": [
    {
     "data": {
      "text/plain": [
       "0.21898831147309558"
      ]
     },
     "execution_count": 70,
     "metadata": {},
     "output_type": "execute_result"
    }
   ],
   "source": [
    "y_data[5,5,5,5,5]"
   ]
  },
  {
   "cell_type": "code",
   "execution_count": null,
   "id": "ccc640c9-e443-492e-ad36-7a8d178231a7",
   "metadata": {},
   "outputs": [],
   "source": []
  },
  {
   "cell_type": "code",
   "execution_count": 71,
   "id": "5746cd6b-87a1-4d78-895a-4f647e50cf03",
   "metadata": {},
   "outputs": [],
   "source": [
    "from jax import grad, jit"
   ]
  },
  {
   "cell_type": "code",
   "execution_count": 72,
   "id": "2130e7b6-605d-49b0-8cdb-33a90e760c59",
   "metadata": {},
   "outputs": [],
   "source": [
    "s5D_jitted= jit(s5D)"
   ]
  },
  {
   "cell_type": "code",
   "execution_count": 73,
   "id": "0e2893d3-56ef-4cb5-a678-16d9b0c7c4c3",
   "metadata": {},
   "outputs": [
    {
     "data": {
      "text/plain": [
       "DeviceArray(0.2189883, dtype=float32)"
      ]
     },
     "execution_count": 73,
     "metadata": {},
     "output_type": "execute_result"
    }
   ],
   "source": [
    "s5D_jitted(x,a_jnp,h_jnp,c_i1i2i3i4i5_jnp)"
   ]
  },
  {
   "cell_type": "code",
   "execution_count": 74,
   "id": "d8c43343-9781-4890-b261-4c0a5116a4a1",
   "metadata": {},
   "outputs": [],
   "source": [
    "ds5D= grad(s5D)"
   ]
  },
  {
   "cell_type": "code",
   "execution_count": 75,
   "id": "27958012-bd8b-4b96-8e83-0dd6473ecb7c",
   "metadata": {},
   "outputs": [
    {
     "data": {
      "text/plain": [
       "DeviceArray([ 0.40083998,  0.14059053,  0.01552507, -0.10017766,\n",
       "             -0.29297203], dtype=float32)"
      ]
     },
     "execution_count": 75,
     "metadata": {},
     "output_type": "execute_result"
    }
   ],
   "source": [
    "ds5D(x,a_jnp,h_jnp,c_i1i2i3i4i5_jnp)"
   ]
  },
  {
   "cell_type": "code",
   "execution_count": 76,
   "id": "e544d68c-cd4a-4f1e-8a8c-c0a1693997cd",
   "metadata": {},
   "outputs": [],
   "source": [
    "ds5D_jitted= jit(grad(s5D))"
   ]
  },
  {
   "cell_type": "code",
   "execution_count": 77,
   "id": "14f025b3-55df-426b-b66b-614811002d76",
   "metadata": {},
   "outputs": [
    {
     "data": {
      "text/plain": [
       "DeviceArray([ 0.40083998,  0.14059053,  0.01552507, -0.10017766,\n",
       "             -0.29297203], dtype=float32)"
      ]
     },
     "execution_count": 77,
     "metadata": {},
     "output_type": "execute_result"
    }
   ],
   "source": [
    "ds5D_jitted(x,a_jnp,h_jnp,c_i1i2i3i4i5_jnp)"
   ]
  },
  {
   "cell_type": "code",
   "execution_count": 85,
   "id": "9f91e121-5bc3-4255-80b6-3234f3972c05",
   "metadata": {},
   "outputs": [],
   "source": [
    "x=jnp.array([0.7,1.0,1.5,2.0,2.5])"
   ]
  },
  {
   "cell_type": "code",
   "execution_count": 86,
   "id": "85317fd0-f389-4f76-8530-88ab5edad6f0",
   "metadata": {},
   "outputs": [
    {
     "data": {
      "text/plain": [
       "DeviceArray([ 0.3491447 ,  0.1889156 ,  0.02086146, -0.13461155,\n",
       "             -0.39367482], dtype=float32)"
      ]
     },
     "execution_count": 86,
     "metadata": {},
     "output_type": "execute_result"
    }
   ],
   "source": [
    "ds5D_jitted(x,a_jnp,h_jnp,c_i1i2i3i4i5_jnp)"
   ]
  },
  {
   "cell_type": "code",
   "execution_count": 87,
   "id": "a79af6dd-0fae-4b29-9388-ede82b963e97",
   "metadata": {},
   "outputs": [],
   "source": [
    "from jax import value_and_grad"
   ]
  },
  {
   "cell_type": "code",
   "execution_count": 88,
   "id": "a51c3514-3a1d-499e-98e7-94ef33fcbd9c",
   "metadata": {},
   "outputs": [],
   "source": [
    "s5D_fun= jit(value_and_grad(s5D))"
   ]
  },
  {
   "cell_type": "code",
   "execution_count": 89,
   "id": "8d3c514d-09c2-4f2a-825f-547d5bfa2bf0",
   "metadata": {},
   "outputs": [
    {
     "data": {
      "text/plain": [
       "(DeviceArray(0.29426068, dtype=float32),\n",
       " DeviceArray([ 0.3491447 ,  0.1889156 ,  0.02086146, -0.13461155,\n",
       "              -0.39367482], dtype=float32))"
      ]
     },
     "execution_count": 89,
     "metadata": {},
     "output_type": "execute_result"
    }
   ],
   "source": [
    "s5D_fun(x,a_jnp,h_jnp,c_i1i2i3i4i5_jnp)"
   ]
  },
  {
   "cell_type": "code",
   "execution_count": 90,
   "id": "1958a1f0-3649-4a4a-a9f3-fe661a7ac50b",
   "metadata": {},
   "outputs": [],
   "source": [
    "x=jnp.array([0.7,1.0,1.5,2.0,2.5])"
   ]
  },
  {
   "cell_type": "code",
   "execution_count": 91,
   "id": "de7a1aba-c2ee-4d4f-8253-cadda279b43b",
   "metadata": {},
   "outputs": [
    {
     "data": {
      "text/plain": [
       "(DeviceArray(0.29426068, dtype=float32),\n",
       " DeviceArray([ 0.3491447 ,  0.1889156 ,  0.02086146, -0.13461155,\n",
       "              -0.39367482], dtype=float32))"
      ]
     },
     "execution_count": 91,
     "metadata": {},
     "output_type": "execute_result"
    }
   ],
   "source": [
    "s5D_fun(x,a_jnp,h_jnp,c_i1i2i3i4i5_jnp)"
   ]
  },
  {
   "cell_type": "code",
   "execution_count": null,
   "id": "4dc281e6-d4a4-47b3-b220-393631650fb9",
   "metadata": {},
   "outputs": [],
   "source": []
  }
 ],
 "metadata": {
  "kernelspec": {
   "display_name": "Python 3 (ipykernel)",
   "language": "python",
   "name": "python3"
  },
  "language_info": {
   "codemirror_mode": {
    "name": "ipython",
    "version": 3
   },
   "file_extension": ".py",
   "mimetype": "text/x-python",
   "name": "python",
   "nbconvert_exporter": "python",
   "pygments_lexer": "ipython3",
   "version": "3.9.13"
  }
 },
 "nbformat": 4,
 "nbformat_minor": 5
}
