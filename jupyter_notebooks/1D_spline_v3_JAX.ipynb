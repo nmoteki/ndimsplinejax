{
 "cells": [
  {
   "cell_type": "markdown",
   "id": "5f685446-5981-4bda-9202-f46614ddbf4a",
   "metadata": {},
   "source": [
    "### 1D natural cubic spline method assuming equidistant grids in each dimension, of Habermann and Kindermann 2007,\n",
    "### jittable, auto-differentiable using JAX, 2022/10/4"
   ]
  },
  {
   "cell_type": "code",
   "execution_count": 82,
   "id": "8dfd0d30-eb29-48b9-8a5c-bd204dd9d81a",
   "metadata": {},
   "outputs": [],
   "source": [
    "import numpy as np\n",
    "from scipy import linalg"
   ]
  },
  {
   "cell_type": "code",
   "execution_count": 83,
   "id": "5ce35aa2-6a16-46c1-9f69-bbbd73667022",
   "metadata": {},
   "outputs": [],
   "source": [
    "N = 1  # dimension (number of independent variables)"
   ]
  },
  {
   "cell_type": "code",
   "execution_count": 84,
   "id": "782ced33-4511-4ddf-8d88-51efeb045fae",
   "metadata": {},
   "outputs": [],
   "source": [
    "# lower and uppder bounds of x-coordinate in each dimension [a,b]\n",
    "a = [0]  # [1st dim, 2nd dim]\n",
    "b = [1]  # [1st dim, 2nd dim]\n",
    "a = np.array(a, dtype=float)\n",
    "b = np.array(b, dtype=float)"
   ]
  },
  {
   "cell_type": "code",
   "execution_count": 85,
   "id": "670eee5a-a05f-491e-8a2f-fb4f7d3cb9bc",
   "metadata": {},
   "outputs": [],
   "source": [
    "# number of grid interval n in each dimension\n",
    "n = [10]  # [1st dim, 2nd dim]\n",
    "n = np.array(n, dtype=int)"
   ]
  },
  {
   "cell_type": "code",
   "execution_count": 86,
   "id": "0eacf31e-8b4f-4df5-94e2-48c4d45fd61d",
   "metadata": {},
   "outputs": [],
   "source": [
    "# grid interval n in each dimension\n",
    "h = (b - a) / n"
   ]
  },
  {
   "cell_type": "code",
   "execution_count": 87,
   "id": "06bc4f9a-3509-4de4-85e2-dba81e534786",
   "metadata": {},
   "outputs": [],
   "source": [
    "# x_grid=(np.linspace(a[0],b[0],n[0]+1), np.linspace(a[1],b[1],n[1]+1))  # tuple of (1st dim grid points , 2nd dim grid points)\n",
    "x_grid = ()\n",
    "for j in range(N):\n",
    "    x_grid += (np.linspace(a[j], b[j], n[j] + 1),)\n",
    "# x_grid[0] is numpy array of 1st dim grid points\n",
    "# x_grid[1] is numpy array of 2nd dim grid points\n",
    "# x_grid"
   ]
  },
  {
   "cell_type": "code",
   "execution_count": 88,
   "id": "35960b75-6dea-46e3-bbc8-adb3675dba1d",
   "metadata": {},
   "outputs": [],
   "source": [
    "grid_shape = ()\n",
    "for j in range(N):\n",
    "    grid_shape += (n[j] + 1,)\n",
    "y_data = np.zeros(grid_shape)"
   ]
  },
  {
   "cell_type": "code",
   "execution_count": 89,
   "id": "dc4cf673-2ba4-4873-bfcd-a863086fecd5",
   "metadata": {},
   "outputs": [],
   "source": [
    "# test y_data\n",
    "for q1 in range(n[0] + 1):\n",
    "    y_data[q1] = np.sin(x_grid[0][q1])\n",
    "# y_data"
   ]
  },
  {
   "cell_type": "code",
   "execution_count": 90,
   "id": "26321717-77e2-4169-9b07-6b5eae0dd9f0",
   "metadata": {},
   "outputs": [],
   "source": [
    "def compute_1D_spline_coefs(y_data):\n",
    "    \"\"\"\n",
    "    Compute 1D spline coefficient matrix c_i1i2\n",
    "\n",
    "    INPUTs:\n",
    "        y_data: 1D numpy array of y data (real scalar) at x_grid points\n",
    "    \"\"\"\n",
    "    N = 1  # dimension of the problem\n",
    "\n",
    "    for j in range(N):\n",
    "        n[j] = y_data.shape[j] - 1  # number of grid interval n in each dimension\n",
    "\n",
    "    k = 0  # 1-st dimension\n",
    "    c_shape = ()\n",
    "    for j in range(N):\n",
    "        if j <= k:\n",
    "            c_shape += (n[j] + 3,)\n",
    "        else:\n",
    "            c_shape += (n[j] + 1,)\n",
    "    c_i1 = np.zeros(c_shape)\n",
    "    del c_shape\n",
    "\n",
    "    c_i1[1] = y_data[0] / 6  # c_{2}\n",
    "    c_i1[n[k] + 1] = y_data[n[k]] / 6  # c_{n+2}\n",
    "    A = np.zeros((n[k] - 1, n[k] - 1))\n",
    "    for i in range(n[k] - 1):\n",
    "        A[i, i] = 4\n",
    "        if i + 1 < n[k] - 1:\n",
    "            A[i, i + 1] = A[i + 1, i] = 1\n",
    "    B = np.zeros(n[k] - 1)\n",
    "    B[0] = y_data[1] - c_i1[1]\n",
    "    B[n[k] - 2] = y_data[n[k] - 1] - c_i1[n[k] + 1]\n",
    "    B[1 : n[k] - 2] = y_data[2 : n[k] - 1]\n",
    "    sol = linalg.solve(A, B)\n",
    "    c_i1[2 : n[k] + 1] = sol\n",
    "    c_i1[0] = 2 * c_i1[1] - c_i1[2]\n",
    "    c_i1[n[k] + 2] = 2 * c_i1[n[k] + 1] - c_i1[n[k]]\n",
    "\n",
    "    return c_i1"
   ]
  },
  {
   "cell_type": "code",
   "execution_count": 91,
   "id": "ef8e4033-cbb2-438d-ae21-c38be618f83f",
   "metadata": {},
   "outputs": [],
   "source": [
    "c_i1 = compute_1D_spline_coefs(y_data)"
   ]
  },
  {
   "cell_type": "code",
   "execution_count": 92,
   "id": "e6f36fd2-1a63-406f-8aab-70c422b3b1f8",
   "metadata": {},
   "outputs": [
    {
     "data": {
      "text/plain": [
       "0.08003786432695967"
      ]
     },
     "execution_count": 92,
     "metadata": {},
     "output_type": "execute_result"
    }
   ],
   "source": [
    "c_i1[6]"
   ]
  },
  {
   "cell_type": "markdown",
   "id": "eb2c70e3-fd9c-4008-9385-dd4cfa07d920",
   "metadata": {},
   "source": [
    "### compute spline interpolation and its gradient using JAX"
   ]
  },
  {
   "cell_type": "code",
   "execution_count": 93,
   "id": "c7a48ad2-9bcc-4d3a-a3a6-f502ba48fbf8",
   "metadata": {},
   "outputs": [],
   "source": [
    "import jax.numpy as jnp\n",
    "from jax import lax"
   ]
  },
  {
   "cell_type": "code",
   "execution_count": 94,
   "id": "6f84ac55-2778-4e0a-9ec7-5ff6762aa88b",
   "metadata": {},
   "outputs": [],
   "source": [
    "# 1D-spline function (jittable and auto-differentiable)\n",
    "def s1D(x, a, h, c_i1):\n",
    "    \"\"\"\n",
    "    1D-spline interpolation\n",
    "\n",
    "    INPUTs\n",
    "        x: 1-dim x vector (float) at which interplated y-value is evaluated\n",
    "        a: 1-dim vector (float) of the lower boundary of the each of the x-dimension\n",
    "        h: 1-dim vector (float) of the grid interval of the each of the x-dimension\n",
    "        c_i1: spline coefficient (1-dim array)\n",
    "    \"\"\"\n",
    "\n",
    "    def u(ii, aa, hh, xx):\n",
    "        t = jnp.abs((xx - aa) / hh + 2 - ii)\n",
    "        return lax.cond(\n",
    "            t <= 1, lambda t: 4.0 - 6.0 * t**2 + 3.0 * t**3, lambda t: (2.0 - t) ** 3, t\n",
    "        ) * jnp.heaviside(2.0 - t, 1.0)\n",
    "\n",
    "    def f(carry, i1, c_i1, a, h, x):\n",
    "        val = c_i1[i1 - 1] * u(i1, a[0], h[0], x[0])\n",
    "        carry += val\n",
    "        return carry, val\n",
    "\n",
    "    i1arr = jnp.arange(1, c_i1.shape[0] + 1)\n",
    "\n",
    "    carry, val = lax.scan(\n",
    "        lambda s1, i1: f(s1, i1=i1, c_i1=c_i1, a=a, h=h, x=x), 0.0, i1arr\n",
    "    )\n",
    "\n",
    "    return carry"
   ]
  },
  {
   "cell_type": "code",
   "execution_count": 95,
   "id": "ccc640c9-e443-492e-ad36-7a8d178231a7",
   "metadata": {},
   "outputs": [],
   "source": [
    "c_i1_jnp = jnp.array(c_i1)\n",
    "a_jnp = jnp.array(a)\n",
    "h_jnp = jnp.array(h)"
   ]
  },
  {
   "cell_type": "code",
   "execution_count": 96,
   "id": "3eb04fcf-e9bb-46ed-99c3-e272a65a7016",
   "metadata": {},
   "outputs": [],
   "source": [
    "x = jnp.array([0.5])"
   ]
  },
  {
   "cell_type": "code",
   "execution_count": 97,
   "id": "78f292bc-7141-43f7-9c62-2b56afdb0458",
   "metadata": {},
   "outputs": [
    {
     "data": {
      "text/plain": [
       "DeviceArray(0.47942552, dtype=float32)"
      ]
     },
     "execution_count": 97,
     "metadata": {},
     "output_type": "execute_result"
    }
   ],
   "source": [
    "s1D(x, a_jnp, h_jnp, c_i1_jnp)"
   ]
  },
  {
   "cell_type": "code",
   "execution_count": 98,
   "id": "5746cd6b-87a1-4d78-895a-4f647e50cf03",
   "metadata": {},
   "outputs": [
    {
     "data": {
      "text/plain": [
       "0.479425538604203"
      ]
     },
     "execution_count": 98,
     "metadata": {},
     "output_type": "execute_result"
    }
   ],
   "source": [
    "y_data[5]"
   ]
  },
  {
   "cell_type": "code",
   "execution_count": null,
   "id": "e1910ab5-b1a4-4769-81de-08a5c8097cb9",
   "metadata": {},
   "outputs": [],
   "source": []
  },
  {
   "cell_type": "code",
   "execution_count": 99,
   "id": "12b0a60a-2d31-4619-9ebd-3a0e61107d72",
   "metadata": {},
   "outputs": [],
   "source": [
    "from jax import grad, jit"
   ]
  },
  {
   "cell_type": "code",
   "execution_count": 100,
   "id": "f2cb256b-934d-4887-a67d-f63defabc454",
   "metadata": {},
   "outputs": [],
   "source": [
    "s1D_jitted = jit(s1D)"
   ]
  },
  {
   "cell_type": "code",
   "execution_count": 101,
   "id": "7f4bf1ae-59c3-4724-a92a-69ca1638df4a",
   "metadata": {},
   "outputs": [
    {
     "data": {
      "text/plain": [
       "DeviceArray(0.47942552, dtype=float32)"
      ]
     },
     "execution_count": 101,
     "metadata": {},
     "output_type": "execute_result"
    }
   ],
   "source": [
    "s1D_jitted(x, a_jnp, h_jnp, c_i1_jnp)"
   ]
  },
  {
   "cell_type": "code",
   "execution_count": 102,
   "id": "330bd118-d733-49a8-a77d-59b0f8c242a9",
   "metadata": {},
   "outputs": [],
   "source": [
    "ds1D = grad(s1D)"
   ]
  },
  {
   "cell_type": "code",
   "execution_count": 103,
   "id": "faf49d6f-3405-4282-adc6-4b8a66fb077e",
   "metadata": {},
   "outputs": [
    {
     "data": {
      "text/plain": [
       "DeviceArray([0.87754846], dtype=float32)"
      ]
     },
     "execution_count": 103,
     "metadata": {},
     "output_type": "execute_result"
    }
   ],
   "source": [
    "ds1D(x, a_jnp, h_jnp, c_i1_jnp)"
   ]
  },
  {
   "cell_type": "code",
   "execution_count": 104,
   "id": "f32a179f-4e28-489f-b3a8-a516d365de80",
   "metadata": {},
   "outputs": [],
   "source": [
    "ds1D_jitted = jit(grad(s1D))"
   ]
  },
  {
   "cell_type": "code",
   "execution_count": 105,
   "id": "c0b70d74-be83-48ce-ac33-7c9547644bc8",
   "metadata": {},
   "outputs": [
    {
     "data": {
      "text/plain": [
       "DeviceArray([0.87754846], dtype=float32)"
      ]
     },
     "execution_count": 105,
     "metadata": {},
     "output_type": "execute_result"
    }
   ],
   "source": [
    "ds1D_jitted(x, a_jnp, h_jnp, c_i1_jnp)"
   ]
  },
  {
   "cell_type": "code",
   "execution_count": 106,
   "id": "551f0948-8ca9-4f4c-b97d-ee5b93a00fad",
   "metadata": {},
   "outputs": [
    {
     "data": {
      "text/plain": [
       "DeviceArray([0.87754846], dtype=float32)"
      ]
     },
     "execution_count": 106,
     "metadata": {},
     "output_type": "execute_result"
    }
   ],
   "source": [
    "x = jnp.array([0.5])\n",
    "ds1D_jitted(x, a_jnp, h_jnp, c_i1_jnp)"
   ]
  },
  {
   "cell_type": "code",
   "execution_count": 107,
   "id": "2760d067-e9ef-47c1-b29c-fc191e9ca36d",
   "metadata": {},
   "outputs": [],
   "source": [
    "from jax import value_and_grad"
   ]
  },
  {
   "cell_type": "code",
   "execution_count": 108,
   "id": "60e7f92a-a63e-4e7d-b566-111e032522d2",
   "metadata": {},
   "outputs": [],
   "source": [
    "s1D_fun = jit(value_and_grad(s1D))"
   ]
  },
  {
   "cell_type": "code",
   "execution_count": 109,
   "id": "1a1a8416-6417-4af7-9c92-3a33fed19056",
   "metadata": {},
   "outputs": [
    {
     "data": {
      "text/plain": [
       "(DeviceArray(0.47942552, dtype=float32),\n",
       " DeviceArray([0.87754846], dtype=float32))"
      ]
     },
     "execution_count": 109,
     "metadata": {},
     "output_type": "execute_result"
    }
   ],
   "source": [
    "s1D_fun(x, a_jnp, h_jnp, c_i1_jnp)"
   ]
  },
  {
   "cell_type": "code",
   "execution_count": 110,
   "id": "70d13dbf-e4b3-492c-bd92-7ffa708f2a08",
   "metadata": {},
   "outputs": [
    {
     "data": {
      "text/plain": [
       "(DeviceArray(0.47942552, dtype=float32),\n",
       " DeviceArray([0.87754846], dtype=float32))"
      ]
     },
     "execution_count": 110,
     "metadata": {},
     "output_type": "execute_result"
    }
   ],
   "source": [
    "x = jnp.array([0.5])\n",
    "s1D_fun(x, a_jnp, h_jnp, c_i1_jnp)"
   ]
  },
  {
   "cell_type": "code",
   "execution_count": null,
   "id": "dc909b30-0ec0-4100-add6-998bff1eed0a",
   "metadata": {},
   "outputs": [],
   "source": []
  }
 ],
 "metadata": {
  "kernelspec": {
   "display_name": "Python 3 (ipykernel)",
   "language": "python",
   "name": "python3"
  },
  "language_info": {
   "codemirror_mode": {
    "name": "ipython",
    "version": 3
   },
   "file_extension": ".py",
   "mimetype": "text/x-python",
   "name": "python",
   "nbconvert_exporter": "python",
   "pygments_lexer": "ipython3",
   "version": "3.9.13"
  }
 },
 "nbformat": 4,
 "nbformat_minor": 5
}
